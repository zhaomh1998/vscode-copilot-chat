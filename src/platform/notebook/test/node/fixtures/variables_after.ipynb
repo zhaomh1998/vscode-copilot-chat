{
 "cells": [
  {
   "cell_type": "code",
   "execution_count": null,
   "metadata": {},
   "outputs": [],
   "source": [
    "seconds_in_a_day = 24 * 60 * 60\n",
    "seconds_in_a_week = 7 * seconds_in_a_day\n",
    "print(seconds_in_a_week)\n",
    ""
   ]
  }
 ],
 "metadata": {
  "language_info": {
   "name": "python"
  }
 },
 "nbformat": 4,
 "nbformat_minor": 2
}