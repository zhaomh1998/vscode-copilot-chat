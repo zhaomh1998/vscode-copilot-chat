{
    "cells": [
     {
      "cell_type": "code",
      "execution_count": null,
      "metadata": {},
      "outputs": [],
      "source": [
       "seconds_in_a_day = 24 * 60 * 60\n",
       "seconds_in_a_week = 7 * seconds_in_a_day\n",
       ""
      ]
     }
    ],
    "metadata": {
     "language_info": {
      "name": "python"
     },
     "orig_nbformat": 4
    },
    "nbformat": 4,
    "nbformat_minor": 2
   }
   